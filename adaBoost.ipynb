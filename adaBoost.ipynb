{
 "cells": [
  {
   "cell_type": "markdown",
   "metadata": {},
   "source": [
    "#### Import modules and read data"
   ]
  },
  {
   "cell_type": "code",
   "execution_count": 13,
   "metadata": {},
   "outputs": [],
   "source": [
    "import matplotlib.pyplot as plt\n",
    "import numpy as np\n",
    "import os\n",
    "import pandas as pd\n",
    "\n",
    "from pprint import pprint\n",
    "from sklearn import metrics\n",
    "from sklearn.ensemble import AdaBoostClassifier\n",
    "from sklearn.feature_selection import f_classif, SelectKBest\n",
    "from sklearn.model_selection import cross_validate, KFold, RepeatedKFold\n",
    "from sklearn.tree import DecisionTreeClassifier"
   ]
  },
  {
   "cell_type": "code",
   "execution_count": 2,
   "metadata": {},
   "outputs": [
    {
     "data": {
      "text/html": [
       "<div>\n",
       "<style scoped>\n",
       "    .dataframe tbody tr th:only-of-type {\n",
       "        vertical-align: middle;\n",
       "    }\n",
       "\n",
       "    .dataframe tbody tr th {\n",
       "        vertical-align: top;\n",
       "    }\n",
       "\n",
       "    .dataframe thead th {\n",
       "        text-align: right;\n",
       "    }\n",
       "</style>\n",
       "<table border=\"1\" class=\"dataframe\">\n",
       "  <thead>\n",
       "    <tr style=\"text-align: right;\">\n",
       "      <th></th>\n",
       "      <th>Image</th>\n",
       "      <th>Mean</th>\n",
       "      <th>Variance</th>\n",
       "      <th>Standard Deviation</th>\n",
       "      <th>Entropy</th>\n",
       "      <th>Skewness</th>\n",
       "      <th>Kurtosis</th>\n",
       "      <th>Contrast</th>\n",
       "      <th>Energy</th>\n",
       "      <th>ASM</th>\n",
       "      <th>Homogeneity</th>\n",
       "      <th>Dissimilarity</th>\n",
       "      <th>Correlation</th>\n",
       "      <th>Coarseness</th>\n",
       "      <th>Class</th>\n",
       "    </tr>\n",
       "  </thead>\n",
       "  <tbody>\n",
       "    <tr>\n",
       "      <th>0</th>\n",
       "      <td>Image1</td>\n",
       "      <td>0.194705</td>\n",
       "      <td>0.212023</td>\n",
       "      <td>0.443074</td>\n",
       "      <td>0.274801</td>\n",
       "      <td>0.068211</td>\n",
       "      <td>0.010937</td>\n",
       "      <td>0.028236</td>\n",
       "      <td>0.475410</td>\n",
       "      <td>0.246092</td>\n",
       "      <td>0.603108</td>\n",
       "      <td>0.139694</td>\n",
       "      <td>0.981764</td>\n",
       "      <td>0.0</td>\n",
       "      <td>0</td>\n",
       "    </tr>\n",
       "    <tr>\n",
       "      <th>1</th>\n",
       "      <td>Image2</td>\n",
       "      <td>0.261489</td>\n",
       "      <td>0.276124</td>\n",
       "      <td>0.510114</td>\n",
       "      <td>0.674843</td>\n",
       "      <td>0.052278</td>\n",
       "      <td>0.007693</td>\n",
       "      <td>0.017951</td>\n",
       "      <td>0.797096</td>\n",
       "      <td>0.648383</td>\n",
       "      <td>0.773800</td>\n",
       "      <td>0.093527</td>\n",
       "      <td>0.997417</td>\n",
       "      <td>0.0</td>\n",
       "      <td>0</td>\n",
       "    </tr>\n",
       "    <tr>\n",
       "      <th>2</th>\n",
       "      <td>Image3</td>\n",
       "      <td>0.219003</td>\n",
       "      <td>0.392326</td>\n",
       "      <td>0.614200</td>\n",
       "      <td>0.001487</td>\n",
       "      <td>0.090618</td>\n",
       "      <td>0.016478</td>\n",
       "      <td>0.023280</td>\n",
       "      <td>0.012719</td>\n",
       "      <td>0.001173</td>\n",
       "      <td>0.230760</td>\n",
       "      <td>0.195261</td>\n",
       "      <td>0.972855</td>\n",
       "      <td>0.0</td>\n",
       "      <td>1</td>\n",
       "    </tr>\n",
       "    <tr>\n",
       "      <th>3</th>\n",
       "      <td>Image4</td>\n",
       "      <td>0.177300</td>\n",
       "      <td>0.329007</td>\n",
       "      <td>0.559750</td>\n",
       "      <td>0.001513</td>\n",
       "      <td>0.108202</td>\n",
       "      <td>0.021559</td>\n",
       "      <td>0.043805</td>\n",
       "      <td>0.012908</td>\n",
       "      <td>0.001192</td>\n",
       "      <td>0.196137</td>\n",
       "      <td>0.258588</td>\n",
       "      <td>0.941475</td>\n",
       "      <td>0.0</td>\n",
       "      <td>1</td>\n",
       "    </tr>\n",
       "    <tr>\n",
       "      <th>4</th>\n",
       "      <td>Image5</td>\n",
       "      <td>0.218223</td>\n",
       "      <td>0.249840</td>\n",
       "      <td>0.483677</td>\n",
       "      <td>0.370574</td>\n",
       "      <td>0.068403</td>\n",
       "      <td>0.011067</td>\n",
       "      <td>0.050836</td>\n",
       "      <td>0.564860</td>\n",
       "      <td>0.338854</td>\n",
       "      <td>0.560862</td>\n",
       "      <td>0.226679</td>\n",
       "      <td>0.960995</td>\n",
       "      <td>0.0</td>\n",
       "      <td>0</td>\n",
       "    </tr>\n",
       "  </tbody>\n",
       "</table>\n",
       "</div>"
      ],
      "text/plain": [
       "    Image      Mean  Variance  Standard Deviation   Entropy  Skewness  \\\n",
       "0  Image1  0.194705  0.212023            0.443074  0.274801  0.068211   \n",
       "1  Image2  0.261489  0.276124            0.510114  0.674843  0.052278   \n",
       "2  Image3  0.219003  0.392326            0.614200  0.001487  0.090618   \n",
       "3  Image4  0.177300  0.329007            0.559750  0.001513  0.108202   \n",
       "4  Image5  0.218223  0.249840            0.483677  0.370574  0.068403   \n",
       "\n",
       "   Kurtosis  Contrast    Energy       ASM  Homogeneity  Dissimilarity  \\\n",
       "0  0.010937  0.028236  0.475410  0.246092     0.603108       0.139694   \n",
       "1  0.007693  0.017951  0.797096  0.648383     0.773800       0.093527   \n",
       "2  0.016478  0.023280  0.012719  0.001173     0.230760       0.195261   \n",
       "3  0.021559  0.043805  0.012908  0.001192     0.196137       0.258588   \n",
       "4  0.011067  0.050836  0.564860  0.338854     0.560862       0.226679   \n",
       "\n",
       "   Correlation  Coarseness  Class  \n",
       "0     0.981764         0.0      0  \n",
       "1     0.997417         0.0      0  \n",
       "2     0.972855         0.0      1  \n",
       "3     0.941475         0.0      1  \n",
       "4     0.960995         0.0      0  "
      ]
     },
     "execution_count": 2,
     "metadata": {},
     "output_type": "execute_result"
    }
   ],
   "source": [
    "normal_data = pd.read_csv(os.getcwd() + '/Data/brain_tumour_normalized.csv')\n",
    "normal_data.head()"
   ]
  },
  {
   "cell_type": "code",
   "execution_count": 3,
   "metadata": {},
   "outputs": [
    {
     "data": {
      "text/plain": [
       "((3762, 13), (3762,))"
      ]
     },
     "execution_count": 3,
     "metadata": {},
     "output_type": "execute_result"
    }
   ],
   "source": [
    "X, Y = normal_data[normal_data.columns[1 : 14]], normal_data[normal_data.columns[-1]]\n",
    "X.shape, Y.shape"
   ]
  },
  {
   "cell_type": "markdown",
   "metadata": {},
   "source": [
    "#### Feature selection using ANOVA F-value"
   ]
  },
  {
   "cell_type": "code",
   "execution_count": 4,
   "metadata": {},
   "outputs": [],
   "source": [
    "k = 6\n",
    "\n",
    "feature_selection = SelectKBest(score_func = f_classif, k = k)  # select k best features using ANOVA F-value\n",
    "\n",
    "fit = feature_selection.fit(X, Y)"
   ]
  },
  {
   "cell_type": "code",
   "execution_count": 5,
   "metadata": {},
   "outputs": [
    {
     "data": {
      "text/html": [
       "<div>\n",
       "<style scoped>\n",
       "    .dataframe tbody tr th:only-of-type {\n",
       "        vertical-align: middle;\n",
       "    }\n",
       "\n",
       "    .dataframe tbody tr th {\n",
       "        vertical-align: top;\n",
       "    }\n",
       "\n",
       "    .dataframe thead th {\n",
       "        text-align: right;\n",
       "    }\n",
       "</style>\n",
       "<table border=\"1\" class=\"dataframe\">\n",
       "  <thead>\n",
       "    <tr style=\"text-align: right;\">\n",
       "      <th></th>\n",
       "      <th>scores</th>\n",
       "      <th>cols</th>\n",
       "    </tr>\n",
       "  </thead>\n",
       "  <tbody>\n",
       "    <tr>\n",
       "      <th>7</th>\n",
       "      <td>10913.518208</td>\n",
       "      <td>Energy</td>\n",
       "    </tr>\n",
       "    <tr>\n",
       "      <th>9</th>\n",
       "      <td>9587.758475</td>\n",
       "      <td>Homogeneity</td>\n",
       "    </tr>\n",
       "    <tr>\n",
       "      <th>3</th>\n",
       "      <td>5772.609943</td>\n",
       "      <td>Entropy</td>\n",
       "    </tr>\n",
       "    <tr>\n",
       "      <th>8</th>\n",
       "      <td>5086.027179</td>\n",
       "      <td>ASM</td>\n",
       "    </tr>\n",
       "    <tr>\n",
       "      <th>10</th>\n",
       "      <td>1685.254630</td>\n",
       "      <td>Dissimilarity</td>\n",
       "    </tr>\n",
       "    <tr>\n",
       "      <th>4</th>\n",
       "      <td>727.528516</td>\n",
       "      <td>Skewness</td>\n",
       "    </tr>\n",
       "  </tbody>\n",
       "</table>\n",
       "</div>"
      ],
      "text/plain": [
       "          scores           cols\n",
       "7   10913.518208         Energy\n",
       "9    9587.758475    Homogeneity\n",
       "3    5772.609943        Entropy\n",
       "8    5086.027179            ASM\n",
       "10   1685.254630  Dissimilarity\n",
       "4     727.528516       Skewness"
      ]
     },
     "execution_count": 5,
     "metadata": {},
     "output_type": "execute_result"
    }
   ],
   "source": [
    "pd.DataFrame({'scores': fit.scores_, 'cols': X.columns}).sort_values(by = 'scores', ascending = False).head(k)  # k best features"
   ]
  },
  {
   "cell_type": "code",
   "execution_count": 6,
   "metadata": {},
   "outputs": [
    {
     "data": {
      "text/plain": [
       "(3762, 6)"
      ]
     },
     "execution_count": 6,
     "metadata": {},
     "output_type": "execute_result"
    }
   ],
   "source": [
    "X_fs = feature_selection.transform(X)\n",
    "X_fs.shape"
   ]
  },
  {
   "cell_type": "markdown",
   "metadata": {},
   "source": [
    "#### Cross-validation without Feature Selection"
   ]
  },
  {
   "cell_type": "code",
   "execution_count": 7,
   "metadata": {},
   "outputs": [],
   "source": [
    "def crossVal(model, cv_selected, prt = True):\n",
    "    scoring = ['accuracy', 'precision', 'recall']  # select metrics\n",
    "    scores = cross_validate(model, X, Y, scoring = scoring, cv = cv_selected)  # calc scores\n",
    "    \n",
    "    if prt:\n",
    "        print('Test accuracy:', scores['test_accuracy'].mean() * 100)\n",
    "        print('Test std. dev. of accuracy:', scores['test_accuracy'].std())\n",
    "        print('-' * 10)\n",
    "        print('Test sensitivity:', scores['test_recall'].mean() * 100)\n",
    "        print('Test std. dev. of sensitivity:', scores['test_recall'].std())\n",
    "        print('-' * 10)\n",
    "        print('Test precision:', scores['test_precision'].mean() * 100)\n",
    "        print('Test std. dev. of precision:', scores['test_precision'].std())\n",
    "    \n",
    "    return scores['test_accuracy'].mean(), scores['test_recall'].mean(), scores['test_accuracy'].std(), scores['test_recall'].std()"
   ]
  },
  {
   "cell_type": "code",
   "execution_count": 8,
   "metadata": {},
   "outputs": [],
   "source": [
    "adaBoost = AdaBoostClassifier()  # create standard model"
   ]
  },
  {
   "cell_type": "markdown",
   "metadata": {},
   "source": [
    "Without repeated folds:"
   ]
  },
  {
   "cell_type": "code",
   "execution_count": 9,
   "metadata": {},
   "outputs": [
    {
     "name": "stdout",
     "output_type": "stream",
     "text": [
      "Test accuracy: 98.61786782549805\n",
      "Test std. dev. of accuracy: 0.006268334181714131\n",
      "----------\n",
      "Test sensitivity: 97.67718381081835\n",
      "Test std. dev. of sensitivity: 0.014020642062510967\n",
      "----------\n",
      "Test precision: 99.21004019232453\n",
      "Test std. dev. of precision: 0.006596021313716727\n"
     ]
    },
    {
     "data": {
      "text/plain": [
       "(0.9861786782549805,\n",
       " 0.9767718381081835,\n",
       " 0.006268334181714131,\n",
       " 0.014020642062510967)"
      ]
     },
     "execution_count": 9,
     "metadata": {},
     "output_type": "execute_result"
    }
   ],
   "source": [
    "cv = KFold(n_splits = 10, shuffle = True, random_state = 42)  # create CV splits\n",
    "\n",
    "crossVal(adaBoost, cv)"
   ]
  },
  {
   "cell_type": "markdown",
   "metadata": {},
   "source": [
    "With repeated folds:"
   ]
  },
  {
   "cell_type": "code",
   "execution_count": 10,
   "metadata": {},
   "outputs": [
    {
     "name": "stdout",
     "output_type": "stream",
     "text": [
      "Test accuracy: 98.75058788118216\n",
      "Test std. dev. of accuracy: 0.0051450117361733485\n",
      "----------\n",
      "Test sensitivity: 97.9049444089611\n",
      "Test std. dev. of sensitivity: 0.010808683837078729\n",
      "----------\n",
      "Test precision: 99.29754164092037\n",
      "Test std. dev. of precision: 0.005643862714722419\n"
     ]
    },
    {
     "data": {
      "text/plain": [
       "(0.9875058788118215,\n",
       " 0.979049444089611,\n",
       " 0.0051450117361733485,\n",
       " 0.010808683837078729)"
      ]
     },
     "execution_count": 10,
     "metadata": {},
     "output_type": "execute_result"
    }
   ],
   "source": [
    "cvr = RepeatedKFold(n_splits = 10, n_repeats = 3, random_state = 42)  # creates CV splits for repeated KFold CV\n",
    "\n",
    "crossVal(adaBoost, cvr)"
   ]
  },
  {
   "cell_type": "markdown",
   "metadata": {},
   "source": [
    "Notes: Repeated CV gives higher accuracy and sensitivity"
   ]
  },
  {
   "cell_type": "markdown",
   "metadata": {},
   "source": [
    "#### Feature Selection + Cross-validation"
   ]
  },
  {
   "cell_type": "code",
   "execution_count": 11,
   "metadata": {},
   "outputs": [],
   "source": [
    "def featSelnCrossVal(model, name, n_splits = 5):\n",
    "    cv = KFold(n_splits = n_splits, shuffle = True, random_state = 42)  # create CV splits\n",
    "    \n",
    "    fig, ax = plt.subplots()\n",
    "    \n",
    "    tprs, aucs, mean_fpr = [], [], np.linspace(0, 1, 100)  # true pos rates, area under curves, mean false pos rate\n",
    "    acc_scores, recall_scores = [], []\n",
    "    \n",
    "    for i, (train, test) in enumerate(cv.split(X_fs, Y)):\n",
    "        model.fit(X_fs[train], Y[train])  # train model\n",
    "        \n",
    "        Y_pred = model.predict(X_fs[test])  # get predictions\n",
    "        \n",
    "        # calc accuracy and sensitivity\n",
    "        acc_scores.append(metrics.accuracy_score(Y[test], Y_pred))\n",
    "        recall_scores.append(metrics.recall_score(Y[test], Y_pred))\n",
    "        \n",
    "        vis = metrics.plot_roc_curve(model, X_fs[test], Y[test], name = 'ROC fold {}'.format(i), lw = 1, alpha = 0.3, ax = ax)  # plot ROC curve\n",
    "    \n",
    "        interp_tpr = np.interp(mean_fpr, vis.fpr, vis.tpr)  # interpolate true pos rate\n",
    "        interp_tpr[0] = 0.0\n",
    "        tprs.append(interp_tpr)\n",
    "        aucs.append(vis.roc_auc)\n",
    "        \n",
    "    ax.plot([0, 1], [0, 1], linestyle = '--', lw = 2, color = '#ff0000', label = 'Chance', alpha = 0.5)\n",
    "\n",
    "    mean_tpr = np.mean(tprs, axis = 0)\n",
    "    mean_tpr[-1] = 1.0\n",
    "    mean_auc = metrics.auc(mean_fpr, mean_tpr)  # mean area under curve\n",
    "    std_auc = np.std(aucs)  # auc std dev\n",
    "    ax.plot(mean_fpr, mean_tpr, color = '#552583', label = r'Mean ROC (AUC = %0.3f $\\pm$ %0.3f)' % (mean_auc, std_auc), lw = 2, alpha = 0.8)\n",
    "\n",
    "    ax.set_title('ROC Curve: {}\\nwith feature selection and 5-fold CV'.format(name))\n",
    "    ax.legend()\n",
    "    plt.tight_layout()\n",
    "    plt.savefig(os.getcwd() + '/Graphs/featureSelection/' + name)\n",
    "    plt.show()\n",
    "    plt.close()\n",
    "    \n",
    "    acc_scores, recall_scores = np.array(acc_scores), np.array(recall_scores)\n",
    "    print('Test accuracy:', acc_scores.mean() * 100)\n",
    "    print('Test std. dev. of accuracy:', acc_scores.std())\n",
    "    print('-' * 10)\n",
    "    print('Test sensitivity:', recall_scores.mean() * 100)\n",
    "    print('Test std. dev. of sensitivity:', recall_scores.std())"
   ]
  },
  {
   "cell_type": "code",
   "execution_count": 12,
   "metadata": {},
   "outputs": [
    {
     "data": {
      "image/png": "[encoded data removed]",
      "text/plain": [
       "<Figure size 432x288 with 1 Axes>"
      ]
     },
     "metadata": {
      "needs_background": "light"
     },
     "output_type": "display_data"
    },
    {
     "name": "stdout",
     "output_type": "stream",
     "text": [
      "Test accuracy: 97.89985448277811\n",
      "Test std. dev. of accuracy: 0.0038073928309126574\n",
      "----------\n",
      "Test sensitivity: 96.84264481030613\n",
      "Test std. dev. of sensitivity: 0.006832667312247186\n"
     ]
    }
   ],
   "source": [
    "adaBoost = AdaBoostClassifier()\n",
    "\n",
    "featSelnCrossVal(adaBoost, 'AdaBoost')"
   ]
  },
  {
   "cell_type": "markdown",
   "metadata": {},
   "source": [
    "Notes: Sensitivity dropped when using X_fs"
   ]
  },
  {
   "cell_type": "markdown",
   "metadata": {},
   "source": [
    "#### Changing Number of Estimators"
   ]
  },
  {
   "cell_type": "code",
   "execution_count": 17,
   "metadata": {},
   "outputs": [
    {
     "name": "stdout",
     "output_type": "stream",
     "text": [
      "10\n",
      "25\n",
      "50\n",
      "100\n",
      "200\n",
      "350\n"
     ]
    },
    {
     "data": {
      "image/png": "[encoded data removed]",
      "text/plain": [
       "<Figure size 432x288 with 1 Axes>"
      ]
     },
     "metadata": {
      "needs_background": "light"
     },
     "output_type": "display_data"
    },
    {
     "name": "stdout",
     "output_type": "stream",
     "text": [
      "Overall highest accuracy: 98.84803506593674\n",
      "Corresponding sensitivity: 98.01980363662001\n",
      "Corresponding number of estimators: 100\n",
      "----------\n",
      "Overall highest sensitivity: 98.1824079816268\n",
      "Corresponding accuracy: 98.84803506593674\n",
      "Corresponding number of estimators: 350\n",
      "----------\n",
      "[10, 25, 50, 100, 200, 350]\n",
      "[0.9795306826946591, 0.9853786895422991, 0.9875058788118215, 0.9884803506593675, 0.9883028105423555, 0.9884803506593675]\n",
      "[0.9706743107470729, 0.9770754367900238, 0.979049444089611, 0.9801980363662001, 0.9818181262229478, 0.981824079816268]\n"
     ]
    }
   ],
   "source": [
    "# n_estim = [10, 25, 50, 100, 500, 1000]  # too slow after 100\n",
    "n_estim = [10, 25, 50, 100, 200, 350]\n",
    "acc_mean, recall_mean, acc_std, recall_std = [], [], [], []\n",
    "\n",
    "cvr = RepeatedKFold(n_splits = 10, n_repeats = 3, random_state = 42)  # creates CV splits for repeated KFold CV\n",
    "\n",
    "for i in n_estim:\n",
    "    print(i)\n",
    "    \n",
    "    adaBoost_estim = AdaBoostClassifier(n_estimators = i)  # create model\n",
    "    \n",
    "    acc, rec, acc_dev, rec_dev = crossVal(adaBoost_estim, cvr, prt = False)\n",
    "    \n",
    "    acc_mean.append(acc)\n",
    "    recall_mean.append(rec)\n",
    "    acc_std.append(acc_dev)\n",
    "    recall_std.append(rec_dev)\n",
    "    \n",
    "plt.plot(n_estim, acc_mean, color = '#552583', marker = 'o', label = 'Accuracy')\n",
    "plt.plot(n_estim, recall_mean, color = '#00788c', marker = 'o', label = 'Sensitivity')\n",
    "plt.grid()\n",
    "plt.legend()\n",
    "plt.title('Number of Estimators vs Accuracy and Sensitivity')\n",
    "plt.xlabel('Number of Estimators')\n",
    "plt.ylabel('Accuracy, Sensitivity')\n",
    "plt.tight_layout()\n",
    "plt.savefig(os.getcwd() + '/Graphs/adaBoost/adaBoostEstimators')\n",
    "plt.show()\n",
    "plt.close()\n",
    "\n",
    "acc_scores, recall_scores = np.array(acc_mean), np.array(recall_mean)\n",
    "\n",
    "max_idx = acc_scores.argmax()\n",
    "print('Overall highest accuracy:', acc_scores[max_idx] * 100)\n",
    "print('Corresponding sensitivity:', recall_scores[max_idx] * 100)\n",
    "print('Corresponding number of estimators:', n_estim[max_idx])\n",
    "print('-' * 10)\n",
    "max_idx = recall_scores.argmax()\n",
    "print('Overall highest sensitivity:', recall_scores[max_idx] * 100)\n",
    "print('Corresponding accuracy:', acc_scores[max_idx] * 100)\n",
    "print('Corresponding number of estimators:', n_estim[max_idx])\n",
    "print('-' * 10)\n",
    "print(n_estim)\n",
    "print(acc_mean)\n",
    "print(recall_mean)"
   ]
  },
  {
   "cell_type": "markdown",
   "metadata": {},
   "source": [
    "The models with 200 and 350 estimators have the same performance, but the latter takes longer to train. Hence, we will proceed with 200 estimators."
   ]
  },
  {
   "cell_type": "markdown",
   "metadata": {},
   "source": [
    "#### Changing Ensemble Learner"
   ]
  },
  {
   "cell_type": "code",
   "execution_count": 14,
   "metadata": {},
   "outputs": [
    {
     "name": "stdout",
     "output_type": "stream",
     "text": [
      "50 1\n",
      "50 6\n",
      "50 15\n",
      "200 1\n",
      "200 6\n",
      "200 15\n",
      "Accuracy:\n",
      "[[0.9875058788118215, 0.9904302349643507, 0.9836961735989612],\n",
      " [0.9883028105423555, 0.9916708994111779, 0.9840512538329853]]\n",
      "Accuracy std. dev.:\n",
      "[[0.0051450117361733485, 0.004634711975067397, 0.007021576454107933],\n",
      " [0.004788473734367967, 0.004326611751159085, 0.00709687046818189]]\n",
      "----------\n",
      "Sensitivity:\n",
      "[[0.979049444089611, 0.9822607961531349, 0.9789985308989898],\n",
      " [0.9818181262229478, 0.9826886217195467, 0.9780486107150393]]\n",
      "'Sensitivity std. dev.:'\n",
      "[[0.010808683837078729, 0.008971976588657631, 0.011174277500526133],\n",
      " [0.008920908721984868, 0.00890577086281257, 0.011194073445776996]]\n"
     ]
    }
   ],
   "source": [
    "n_estim = [50, 200]  # scikit-learn 0.23.2 default no. of estimators for AdaBoostClassifier is 50\n",
    "depths = [1, 6, 15]  # decision trees of depth 6 and 15 performed well, 1 is default\n",
    "acc_mean, recall_mean, acc_std, recall_std = [], [], [], []\n",
    "\n",
    "cvr = RepeatedKFold(n_splits = 10, n_repeats = 3, random_state = 42)  # creates CV splits for repeated KFold CV\n",
    "\n",
    "for n in n_estim:\n",
    "    acc_at_n, rec_at_n, acc_dev_at_n, rec_dev_at_n = [], [], [], []  # accuracy and recall at current n\n",
    "    \n",
    "    for depth in depths:\n",
    "        print(n, depth)\n",
    "        \n",
    "        base_tree = DecisionTreeClassifier(criterion = 'gini', max_depth = depth)  # base estimator\n",
    "\n",
    "        adaBoost_estim_depth = AdaBoostClassifier(base_estimator = base_tree, n_estimators = n)  # create model\n",
    "        \n",
    "        acc, rec, acc_dev, rec_dev = crossVal(adaBoost_estim_depth, cvr, prt = False)\n",
    "        \n",
    "        acc_at_n.append(acc)\n",
    "        rec_at_n.append(rec)\n",
    "        acc_dev_at_n.append(acc_dev)\n",
    "        rec_dev_at_n.append(rec_dev)\n",
    "        \n",
    "    acc_mean.append(acc_at_n)\n",
    "    recall_mean.append(rec_at_n)\n",
    "    acc_std.append(acc_dev_at_n)\n",
    "    recall_std.append(rec_dev_at_n)\n",
    "\n",
    "print('Accuracy:')\n",
    "pprint(acc_mean)\n",
    "print('Accuracy std. dev.:')\n",
    "pprint(acc_std)\n",
    "print('-' * 10)\n",
    "print('Sensitivity:')\n",
    "pprint(recall_mean)\n",
    "print('Sensitivity std. dev.:')\n",
    "pprint(recall_std)"
   ]
  },
  {
   "cell_type": "code",
   "execution_count": 24,
   "metadata": {},
   "outputs": [
    {
     "data": {
      "image/png": "[encoded data removed]",
      "text/plain": [
       "<Figure size 432x288 with 2 Axes>"
      ]
     },
     "metadata": {
      "needs_background": "light"
     },
     "output_type": "display_data"
    }
   ],
   "source": [
    "fig, (ax1, ax2) = plt.subplots(1, 2, sharey = True)\n",
    "fig.suptitle('Ensemble Depth vs Accuracy and Sensitivity for Different Depths')\n",
    "\n",
    "ax1.plot(depths, acc_mean[0], color = '#552583', marker = 'o', label = 'Accuracy')\n",
    "ax1.plot(depths, recall_mean[0], color = '#00788c', marker = 'o', label = 'Sensitivity')\n",
    "ax1.grid()\n",
    "ax1.set_title('Estimators: {}'.format(n_estim[0]))\n",
    "ax1.set_xlabel('Depth')\n",
    "ax1.set_ylabel('Accuracy, Sensitivity')\n",
    "ax1.set_xticks(depths)\n",
    "ax2.plot(depths, acc_mean[1], color = '#552583', marker = 'o', label = 'Accuracy')\n",
    "ax2.plot(depths, recall_mean[1], color = '#00788c', marker = 'o', label = 'Sensitivity')\n",
    "ax2.grid()\n",
    "ax2.set_title('Estimators: {}'.format(n_estim[1]))\n",
    "ax2.set_xlabel('Depth')\n",
    "ax2.set_xticks(depths)\n",
    "plt.legend()\n",
    "# plt.tight_layout()\n",
    "plt.savefig(os.getcwd() + '/Graphs/adaBoost/adaBoostEstimatorsDepth')\n",
    "plt.show()\n",
    "plt.close()"
   ]
  },
  {
   "cell_type": "code",
   "execution_count": 37,
   "metadata": {},
   "outputs": [
    {
     "name": "stdout",
     "output_type": "stream",
     "text": [
      "Number of Estimators: 50\n",
      "\n",
      "\n",
      "Overall highest accuracy: 99.04302349643507\n",
      "Corresponding sensitivity: 98.2260796153135\n",
      "Corresponding decision tree depth: 6\n",
      "----------\n",
      "Overall highest sensitivity: 98.2260796153135\n",
      "Corresponding accuracy: 99.04302349643507\n",
      "Corresponding decision tree depth: 6\n",
      "--------------------\n",
      "Number of Estimators: 200\n",
      "\n",
      "\n",
      "Overall highest accuracy: 99.1670899411178\n",
      "Corresponding sensitivity: 98.26886217195468\n",
      "Corresponding decision tree depth: 6\n",
      "----------\n",
      "Overall highest sensitivity: 98.26886217195468\n",
      "Corresponding accuracy: 99.1670899411178\n",
      "Corresponding decision tree depth: 6\n",
      "--------------------\n"
     ]
    }
   ],
   "source": [
    "for i in range(len(n_estim)):\n",
    "    print('Number of Estimators:', n_estim[i])\n",
    "    print('\\n')\n",
    "    max_idx = acc_scores[i].argmax()\n",
    "    print('Overall highest accuracy:', acc_scores[i][max_idx] * 100)\n",
    "    print('Corresponding sensitivity:', recall_scores[i][max_idx] * 100)\n",
    "    print('Corresponding decision tree depth:', depths[max_idx])\n",
    "    print('-' * 10)\n",
    "    max_idx = recall_scores[i].argmax()\n",
    "    print('Overall highest sensitivity:', recall_scores[i][max_idx] * 100)\n",
    "    print('Corresponding accuracy:', acc_scores[i][max_idx] * 100)\n",
    "    print('Corresponding decision tree depth:', depths[max_idx])\n",
    "    print('-' * 20)"
   ]
  },
  {
   "cell_type": "markdown",
   "metadata": {},
   "source": [
    "Notes: The model with 200 estimators and depth 6 has higher accuracy and sensitivity. It performs better than the adaBoost_estim model too."
   ]
  }
 ],
 "metadata": {
  "kernelspec": {
   "display_name": "Python 3",
   "language": "python",
   "name": "python3"
  },
  "language_info": {
   "codemirror_mode": {
    "name": "ipython",
    "version": 3
   },
   "file_extension": ".py",
   "mimetype": "text/x-python",
   "name": "python",
   "nbconvert_exporter": "python",
   "pygments_lexer": "ipython3",
   "version": "3.8.8"
  }
 },
 "nbformat": 4,
 "nbformat_minor": 4
}
