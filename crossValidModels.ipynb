{
 "cells": [
  {
   "cell_type": "markdown",
   "metadata": {},
   "source": [
    "#### Import modules and read data"
   ]
  },
  {
   "cell_type": "code",
   "execution_count": 1,
   "metadata": {},
   "outputs": [],
   "source": [
    "import matplotlib.pyplot as plt\n",
    "import numpy as np\n",
    "import os\n",
    "import pandas as pd\n",
    "\n",
    "from sklearn import metrics\n",
    "from sklearn.linear_model import LogisticRegression\n",
    "from sklearn.model_selection import cross_val_score, cross_validate, KFold, RepeatedKFold\n",
    "from sklearn.naive_bayes import GaussianNB\n",
    "from sklearn.svm import SVC\n",
    "from sklearn.tree import DecisionTreeClassifier"
   ]
  },
  {
   "cell_type": "code",
   "execution_count": 2,
   "metadata": {},
   "outputs": [
    {
     "data": {
      "text/html": [
       "<div>\n",
       "<style scoped>\n",
       "    .dataframe tbody tr th:only-of-type {\n",
       "        vertical-align: middle;\n",
       "    }\n",
       "\n",
       "    .dataframe tbody tr th {\n",
       "        vertical-align: top;\n",
       "    }\n",
       "\n",
       "    .dataframe thead th {\n",
       "        text-align: right;\n",
       "    }\n",
       "</style>\n",
       "<table border=\"1\" class=\"dataframe\">\n",
       "  <thead>\n",
       "    <tr style=\"text-align: right;\">\n",
       "      <th></th>\n",
       "      <th>Image</th>\n",
       "      <th>Mean</th>\n",
       "      <th>Variance</th>\n",
       "      <th>Standard Deviation</th>\n",
       "      <th>Entropy</th>\n",
       "      <th>Skewness</th>\n",
       "      <th>Kurtosis</th>\n",
       "      <th>Contrast</th>\n",
       "      <th>Energy</th>\n",
       "      <th>ASM</th>\n",
       "      <th>Homogeneity</th>\n",
       "      <th>Dissimilarity</th>\n",
       "      <th>Correlation</th>\n",
       "      <th>Coarseness</th>\n",
       "      <th>Class</th>\n",
       "    </tr>\n",
       "  </thead>\n",
       "  <tbody>\n",
       "    <tr>\n",
       "      <th>0</th>\n",
       "      <td>Image1</td>\n",
       "      <td>0.194705</td>\n",
       "      <td>0.212023</td>\n",
       "      <td>0.443074</td>\n",
       "      <td>0.274801</td>\n",
       "      <td>0.068211</td>\n",
       "      <td>0.010937</td>\n",
       "      <td>0.028236</td>\n",
       "      <td>0.475410</td>\n",
       "      <td>0.246092</td>\n",
       "      <td>0.603108</td>\n",
       "      <td>0.139694</td>\n",
       "      <td>0.981764</td>\n",
       "      <td>0.0</td>\n",
       "      <td>0</td>\n",
       "    </tr>\n",
       "    <tr>\n",
       "      <th>1</th>\n",
       "      <td>Image2</td>\n",
       "      <td>0.261489</td>\n",
       "      <td>0.276124</td>\n",
       "      <td>0.510114</td>\n",
       "      <td>0.674843</td>\n",
       "      <td>0.052278</td>\n",
       "      <td>0.007693</td>\n",
       "      <td>0.017951</td>\n",
       "      <td>0.797096</td>\n",
       "      <td>0.648383</td>\n",
       "      <td>0.773800</td>\n",
       "      <td>0.093527</td>\n",
       "      <td>0.997417</td>\n",
       "      <td>0.0</td>\n",
       "      <td>0</td>\n",
       "    </tr>\n",
       "    <tr>\n",
       "      <th>2</th>\n",
       "      <td>Image3</td>\n",
       "      <td>0.219003</td>\n",
       "      <td>0.392326</td>\n",
       "      <td>0.614200</td>\n",
       "      <td>0.001487</td>\n",
       "      <td>0.090618</td>\n",
       "      <td>0.016478</td>\n",
       "      <td>0.023280</td>\n",
       "      <td>0.012719</td>\n",
       "      <td>0.001173</td>\n",
       "      <td>0.230760</td>\n",
       "      <td>0.195261</td>\n",
       "      <td>0.972855</td>\n",
       "      <td>0.0</td>\n",
       "      <td>1</td>\n",
       "    </tr>\n",
       "    <tr>\n",
       "      <th>3</th>\n",
       "      <td>Image4</td>\n",
       "      <td>0.177300</td>\n",
       "      <td>0.329007</td>\n",
       "      <td>0.559750</td>\n",
       "      <td>0.001513</td>\n",
       "      <td>0.108202</td>\n",
       "      <td>0.021559</td>\n",
       "      <td>0.043805</td>\n",
       "      <td>0.012908</td>\n",
       "      <td>0.001192</td>\n",
       "      <td>0.196137</td>\n",
       "      <td>0.258588</td>\n",
       "      <td>0.941475</td>\n",
       "      <td>0.0</td>\n",
       "      <td>1</td>\n",
       "    </tr>\n",
       "    <tr>\n",
       "      <th>4</th>\n",
       "      <td>Image5</td>\n",
       "      <td>0.218223</td>\n",
       "      <td>0.249840</td>\n",
       "      <td>0.483677</td>\n",
       "      <td>0.370574</td>\n",
       "      <td>0.068403</td>\n",
       "      <td>0.011067</td>\n",
       "      <td>0.050836</td>\n",
       "      <td>0.564860</td>\n",
       "      <td>0.338854</td>\n",
       "      <td>0.560862</td>\n",
       "      <td>0.226679</td>\n",
       "      <td>0.960995</td>\n",
       "      <td>0.0</td>\n",
       "      <td>0</td>\n",
       "    </tr>\n",
       "  </tbody>\n",
       "</table>\n",
       "</div>"
      ],
      "text/plain": [
       "    Image      Mean  Variance  Standard Deviation   Entropy  Skewness  \\\n",
       "0  Image1  0.194705  0.212023            0.443074  0.274801  0.068211   \n",
       "1  Image2  0.261489  0.276124            0.510114  0.674843  0.052278   \n",
       "2  Image3  0.219003  0.392326            0.614200  0.001487  0.090618   \n",
       "3  Image4  0.177300  0.329007            0.559750  0.001513  0.108202   \n",
       "4  Image5  0.218223  0.249840            0.483677  0.370574  0.068403   \n",
       "\n",
       "   Kurtosis  Contrast    Energy       ASM  Homogeneity  Dissimilarity  \\\n",
       "0  0.010937  0.028236  0.475410  0.246092     0.603108       0.139694   \n",
       "1  0.007693  0.017951  0.797096  0.648383     0.773800       0.093527   \n",
       "2  0.016478  0.023280  0.012719  0.001173     0.230760       0.195261   \n",
       "3  0.021559  0.043805  0.012908  0.001192     0.196137       0.258588   \n",
       "4  0.011067  0.050836  0.564860  0.338854     0.560862       0.226679   \n",
       "\n",
       "   Correlation  Coarseness  Class  \n",
       "0     0.981764         0.0      0  \n",
       "1     0.997417         0.0      0  \n",
       "2     0.972855         0.0      1  \n",
       "3     0.941475         0.0      1  \n",
       "4     0.960995         0.0      0  "
      ]
     },
     "execution_count": 2,
     "metadata": {},
     "output_type": "execute_result"
    }
   ],
   "source": [
    "normal_data = pd.read_csv(os.getcwd() + '/Data/brain_tumour_normalized.csv')\n",
    "normal_data.head()"
   ]
  },
  {
   "cell_type": "code",
   "execution_count": 3,
   "metadata": {},
   "outputs": [
    {
     "data": {
      "text/plain": [
       "((3762, 13), (3762,))"
      ]
     },
     "execution_count": 3,
     "metadata": {},
     "output_type": "execute_result"
    }
   ],
   "source": [
    "X, Y = normal_data[normal_data.columns[1 : 14]], normal_data[normal_data.columns[-1]]\n",
    "X.shape, Y.shape"
   ]
  },
  {
   "cell_type": "markdown",
   "metadata": {},
   "source": [
    "**Scoring Metrics**\n",
    "\n",
    "* Accuracy: $\\frac{TP + TN}{TP + TN + FP + FN}$\n",
    "* Sensitivity/Recall/True Positive Rate: $\\frac{TP}{TP + FN}$\n",
    "* Precision: $\\frac{TP}{TP + FP}$"
   ]
  },
  {
   "cell_type": "markdown",
   "metadata": {},
   "source": [
    "#### Logistic Regression"
   ]
  },
  {
   "cell_type": "markdown",
   "metadata": {},
   "source": [
    "Without repeated folds:"
   ]
  },
  {
   "cell_type": "code",
   "execution_count": 4,
   "metadata": {},
   "outputs": [],
   "source": [
    "cv = KFold(n_splits = 10, shuffle = True, random_state = 42)  # create CV splits"
   ]
  },
  {
   "cell_type": "code",
   "execution_count": 5,
   "metadata": {},
   "outputs": [],
   "source": [
    "logisticRegr = LogisticRegression()  # create model\n",
    "\n",
    "# scores = cross_val_score(logisticRegr, X, Y, scoring = 'accuracy', cv = cv)  # calc accuracy\n",
    "\n",
    "scoring = ['accuracy', 'precision', 'recall']  # select metrics\n",
    "scores = cross_validate(logisticRegr, X, Y, scoring = scoring, cv = cv)  # calc scores"
   ]
  },
  {
   "cell_type": "code",
   "execution_count": 6,
   "metadata": {},
   "outputs": [
    {
     "name": "stdout",
     "output_type": "stream",
     "text": [
      "Test accuracy: 97.76736836164571\n",
      "Test std. dev. of accuracy: 0.00571257777793943\n",
      "----------\n",
      "Test sensitivity: 95.59511220121823\n",
      "Test std. dev. of sensitivity: 0.009996565858764742\n",
      "----------\n",
      "Test precision: 99.3829416467252\n",
      "Test std. dev. of precision: 0.0076385140281729665\n"
     ]
    }
   ],
   "source": [
    "print('Test accuracy:', scores['test_accuracy'].mean() * 100)\n",
    "print('Test std. dev. of accuracy:', scores['test_accuracy'].std())\n",
    "print('-' * 10)\n",
    "print('Test sensitivity:', scores['test_recall'].mean() * 100)\n",
    "print('Test std. dev. of sensitivity:', scores['test_recall'].std())\n",
    "print('-' * 10)\n",
    "print('Test precision:', scores['test_precision'].mean() * 100)\n",
    "print('Test std. dev. of precision:', scores['test_precision'].std())"
   ]
  },
  {
   "cell_type": "markdown",
   "metadata": {},
   "source": [
    "With repeated folds:"
   ]
  },
  {
   "cell_type": "code",
   "execution_count": 7,
   "metadata": {},
   "outputs": [],
   "source": [
    "cvr = RepeatedKFold(n_splits = 10, n_repeats = 3, random_state = 42)  # creates CV splits for repeated KFold CV"
   ]
  },
  {
   "cell_type": "code",
   "execution_count": 8,
   "metadata": {},
   "outputs": [],
   "source": [
    "logisticRegr = LogisticRegression()  # create model\n",
    "\n",
    "# scores = cross_val_score(logisticRegr, X, Y, scoring = 'accuracy', cv = cvr)  # calc accuracy\n",
    "\n",
    "scoring = ['accuracy', 'precision', 'recall']  # select metrics\n",
    "scores = cross_validate(logisticRegr, X, Y, scoring = scoring, cv = cvr)  # calc scores"
   ]
  },
  {
   "cell_type": "code",
   "execution_count": 9,
   "metadata": {},
   "outputs": [
    {
     "name": "stdout",
     "output_type": "stream",
     "text": [
      "Test accuracy: 97.76713320917281\n",
      "Test std. dev. of accuracy: 0.006159991467893768\n",
      "----------\n",
      "Test sensitivity: 95.61377746947295\n",
      "Test std. dev. of sensitivity: 0.011689808989269064\n",
      "----------\n",
      "Test precision: 99.38271338403048\n",
      "Test std. dev. of precision: 0.00632075362030211\n"
     ]
    }
   ],
   "source": [
    "print('Test accuracy:', scores['test_accuracy'].mean() * 100)\n",
    "print('Test std. dev. of accuracy:', scores['test_accuracy'].std())\n",
    "print('-' * 10)\n",
    "print('Test sensitivity:', scores['test_recall'].mean() * 100)\n",
    "print('Test std. dev. of sensitivity:', scores['test_recall'].std())\n",
    "print('-' * 10)\n",
    "print('Test precision:', scores['test_precision'].mean() * 100)\n",
    "print('Test std. dev. of precision:', scores['test_precision'].std())"
   ]
  },
  {
   "cell_type": "markdown",
   "metadata": {},
   "source": [
    "#### SVM - RBF Kernel"
   ]
  },
  {
   "cell_type": "markdown",
   "metadata": {},
   "source": [
    "Without repeated folds:"
   ]
  },
  {
   "cell_type": "code",
   "execution_count": 10,
   "metadata": {},
   "outputs": [],
   "source": [
    "cv = KFold(n_splits = 10, shuffle = True, random_state = 42)  # create CV splits"
   ]
  },
  {
   "cell_type": "code",
   "execution_count": 11,
   "metadata": {},
   "outputs": [],
   "source": [
    "svm_rbf = SVC(kernel = 'rbf', gamma = 'auto')  # create model\n",
    "\n",
    "# scores = cross_val_score(svm_rbf, X, Y, scoring = 'accuracy', cv = cv)  # calc accuracy\n",
    "\n",
    "scoring = ['accuracy', 'precision', 'recall']  # select metrics\n",
    "scores = cross_validate(svm_rbf, X, Y, scoring = scoring, cv = cv)  # calc scores"
   ]
  },
  {
   "cell_type": "code",
   "execution_count": 12,
   "metadata": {},
   "outputs": [
    {
     "name": "stdout",
     "output_type": "stream",
     "text": [
      "Test accuracy: 97.36871437440037\n",
      "Test std. dev. of accuracy: 0.006099179752415618\n",
      "----------\n",
      "Test sensitivity: 94.64201801930665\n",
      "Test std. dev. of sensitivity: 0.01272535348350196\n",
      "----------\n",
      "Test precision: 99.4354283324675\n",
      "Test std. dev. of precision: 0.006491511485627216\n"
     ]
    }
   ],
   "source": [
    "print('Test accuracy:', scores['test_accuracy'].mean() * 100)\n",
    "print('Test std. dev. of accuracy:', scores['test_accuracy'].std())\n",
    "print('-' * 10)\n",
    "print('Test sensitivity:', scores['test_recall'].mean() * 100)\n",
    "print('Test std. dev. of sensitivity:', scores['test_recall'].std())\n",
    "print('-' * 10)\n",
    "print('Test precision:', scores['test_precision'].mean() * 100)\n",
    "print('Test std. dev. of precision:', scores['test_precision'].std())"
   ]
  },
  {
   "cell_type": "markdown",
   "metadata": {},
   "source": [
    "With repeated folds:"
   ]
  },
  {
   "cell_type": "code",
   "execution_count": 13,
   "metadata": {},
   "outputs": [],
   "source": [
    "cvr = RepeatedKFold(n_splits = 10, n_repeats = 3, random_state = 42)  # creates CV splits for repeated KFold CV"
   ]
  },
  {
   "cell_type": "code",
   "execution_count": 14,
   "metadata": {},
   "outputs": [],
   "source": [
    "svm_rbf = SVC(kernel = 'rbf', gamma = 'auto')  # create model\n",
    "\n",
    "# scores = cross_val_score(svm_rbf, X, Y, scoring = 'accuracy', cv = cvr)  # calc accuracy\n",
    "\n",
    "scoring = ['accuracy', 'precision', 'recall']  # select metrics\n",
    "scores = cross_validate(svm_rbf, X, Y, scoring = scoring, cv = cvr)  # calc scores"
   ]
  },
  {
   "cell_type": "code",
   "execution_count": 15,
   "metadata": {},
   "outputs": [
    {
     "name": "stdout",
     "output_type": "stream",
     "text": [
      "Test accuracy: 97.32408243505087\n",
      "Test std. dev. of accuracy: 0.006544625993357317\n",
      "----------\n",
      "Test sensitivity: 94.56174244043238\n",
      "Test std. dev. of sensitivity: 0.013799421984076441\n",
      "----------\n",
      "Test precision: 99.43720253875018\n",
      "Test std. dev. of precision: 0.006099486445891794\n"
     ]
    }
   ],
   "source": [
    "print('Test accuracy:', scores['test_accuracy'].mean() * 100)\n",
    "print('Test std. dev. of accuracy:', scores['test_accuracy'].std())\n",
    "print('-' * 10)\n",
    "print('Test sensitivity:', scores['test_recall'].mean() * 100)\n",
    "print('Test std. dev. of sensitivity:', scores['test_recall'].std())\n",
    "print('-' * 10)\n",
    "print('Test precision:', scores['test_precision'].mean() * 100)\n",
    "print('Test std. dev. of precision:', scores['test_precision'].std())"
   ]
  },
  {
   "cell_type": "markdown",
   "metadata": {},
   "source": [
    "#### SVM - Sigmoid Kernel"
   ]
  },
  {
   "cell_type": "markdown",
   "metadata": {},
   "source": [
    "Without repeated folds:"
   ]
  },
  {
   "cell_type": "code",
   "execution_count": 16,
   "metadata": {},
   "outputs": [],
   "source": [
    "cv = KFold(n_splits = 10, shuffle = True, random_state = 42)  # create CV splits"
   ]
  },
  {
   "cell_type": "code",
   "execution_count": 17,
   "metadata": {},
   "outputs": [],
   "source": [
    "svm_sigmoid = SVC(kernel = 'sigmoid', gamma = 'auto')  # create model\n",
    "\n",
    "# scores = cross_val_score(svm_sigmoid, X, Y, scoring = 'accuracy', cv = cv)  # calc accuracy\n",
    "\n",
    "scoring = ['accuracy', 'precision', 'recall']  # select metrics\n",
    "scores = cross_validate(svm_sigmoid, X, Y, scoring = scoring, cv = cv)  # calc scores"
   ]
  },
  {
   "cell_type": "code",
   "execution_count": 18,
   "metadata": {},
   "outputs": [
    {
     "name": "stdout",
     "output_type": "stream",
     "text": [
      "Test accuracy: 96.99658558609403\n",
      "Test std. dev. of accuracy: 0.007416498502075566\n",
      "----------\n",
      "Test sensitivity: 93.75070295166508\n",
      "Test std. dev. of sensitivity: 0.016050735602826164\n",
      "----------\n",
      "Test precision: 99.49275283470044\n",
      "Test std. dev. of precision: 0.0061636257802505584\n"
     ]
    }
   ],
   "source": [
    "print('Test accuracy:', scores['test_accuracy'].mean() * 100)\n",
    "print('Test std. dev. of accuracy:', scores['test_accuracy'].std())\n",
    "print('-' * 10)\n",
    "print('Test sensitivity:', scores['test_recall'].mean() * 100)\n",
    "print('Test std. dev. of sensitivity:', scores['test_recall'].std())\n",
    "print('-' * 10)\n",
    "print('Test precision:', scores['test_precision'].mean() * 100)\n",
    "print('Test std. dev. of precision:', scores['test_precision'].std())"
   ]
  },
  {
   "cell_type": "markdown",
   "metadata": {},
   "source": [
    "With repeated folds:"
   ]
  },
  {
   "cell_type": "code",
   "execution_count": 19,
   "metadata": {},
   "outputs": [],
   "source": [
    "cvr = RepeatedKFold(n_splits = 10, n_repeats = 3, random_state = 42)  # creates CV splits for repeated KFold CV"
   ]
  },
  {
   "cell_type": "code",
   "execution_count": 20,
   "metadata": {},
   "outputs": [],
   "source": [
    "svm_sigmoid = SVC(kernel = 'sigmoid', gamma = 'auto')  # create model\n",
    "\n",
    "# scores = cross_val_score(svm_sigmoid, X, Y, scoring = 'accuracy', cv = cvr)  # calc accuracy\n",
    "\n",
    "scoring = ['accuracy', 'precision', 'recall']  # select metrics\n",
    "scores = cross_validate(svm_sigmoid, X, Y, scoring = scoring, cv = cvr)  # calc scores"
   ]
  },
  {
   "cell_type": "code",
   "execution_count": 21,
   "metadata": {},
   "outputs": [
    {
     "name": "stdout",
     "output_type": "stream",
     "text": [
      "Test accuracy: 97.00514513610624\n",
      "Test std. dev. of accuracy: 0.007028382236675999\n",
      "----------\n",
      "Test sensitivity: 93.751563025565\n",
      "Test std. dev. of sensitivity: 0.015142580003395382\n",
      "----------\n",
      "Test precision: 99.53572511185212\n",
      "Test std. dev. of precision: 0.00537362255982363\n"
     ]
    }
   ],
   "source": [
    "print('Test accuracy:', scores['test_accuracy'].mean() * 100)\n",
    "print('Test std. dev. of accuracy:', scores['test_accuracy'].std())\n",
    "print('-' * 10)\n",
    "print('Test sensitivity:', scores['test_recall'].mean() * 100)\n",
    "print('Test std. dev. of sensitivity:', scores['test_recall'].std())\n",
    "print('-' * 10)\n",
    "print('Test precision:', scores['test_precision'].mean() * 100)\n",
    "print('Test std. dev. of precision:', scores['test_precision'].std())"
   ]
  },
  {
   "cell_type": "markdown",
   "metadata": {},
   "source": [
    "#### SVM - Linear Kernel"
   ]
  },
  {
   "cell_type": "markdown",
   "metadata": {},
   "source": [
    "Without repeated folds:"
   ]
  },
  {
   "cell_type": "code",
   "execution_count": 22,
   "metadata": {},
   "outputs": [],
   "source": [
    "cv = KFold(n_splits = 10, shuffle = True, random_state = 42)  # create CV splits"
   ]
  },
  {
   "cell_type": "code",
   "execution_count": 23,
   "metadata": {},
   "outputs": [],
   "source": [
    "svm_linear = SVC(kernel = 'linear', gamma = 'auto')  # create model\n",
    "\n",
    "# scores = cross_val_score(svm_linear, X, Y, scoring = 'accuracy', cv = cv)  # calc accuracy\n",
    "\n",
    "scoring = ['accuracy', 'precision', 'recall']  # select metrics\n",
    "scores = cross_validate(svm_linear, X, Y, scoring = scoring, cv = cv)  # calc scores"
   ]
  },
  {
   "cell_type": "code",
   "execution_count": 24,
   "metadata": {},
   "outputs": [
    {
     "name": "stdout",
     "output_type": "stream",
     "text": [
      "Test accuracy: 97.7940346520684\n",
      "Test std. dev. of accuracy: 0.005691111741719891\n",
      "----------\n",
      "Test sensitivity: 95.70603237516706\n",
      "Test std. dev. of sensitivity: 0.010492246102443046\n",
      "----------\n",
      "Test precision: 99.32438169962037\n",
      "Test std. dev. of precision: 0.007362865695907951\n"
     ]
    }
   ],
   "source": [
    "print('Test accuracy:', scores['test_accuracy'].mean() * 100)\n",
    "print('Test std. dev. of accuracy:', scores['test_accuracy'].std())\n",
    "print('-' * 10)\n",
    "print('Test sensitivity:', scores['test_recall'].mean() * 100)\n",
    "print('Test std. dev. of sensitivity:', scores['test_recall'].std())\n",
    "print('-' * 10)\n",
    "print('Test precision:', scores['test_precision'].mean() * 100)\n",
    "print('Test std. dev. of precision:', scores['test_precision'].std())"
   ]
  },
  {
   "cell_type": "markdown",
   "metadata": {},
   "source": [
    "With repeated folds:"
   ]
  },
  {
   "cell_type": "code",
   "execution_count": 25,
   "metadata": {},
   "outputs": [],
   "source": [
    "cvr = RepeatedKFold(n_splits = 10, n_repeats = 3, random_state = 42)  # creates CV splits for repeated KFold CV"
   ]
  },
  {
   "cell_type": "code",
   "execution_count": 26,
   "metadata": {},
   "outputs": [],
   "source": [
    "svm_linear = SVC(kernel = 'linear', gamma = 'auto')  # create model\n",
    "\n",
    "# scores = cross_val_score(svm_linear, X, Y, scoring = 'accuracy', cv = cvr)  # calc accuracy\n",
    "\n",
    "scoring = ['accuracy', 'precision', 'recall']  # select metrics\n",
    "scores = cross_validate(svm_linear, X, Y, scoring = scoring, cv = cvr)  # calc scores"
   ]
  },
  {
   "cell_type": "code",
   "execution_count": 27,
   "metadata": {},
   "outputs": [
    {
     "name": "stdout",
     "output_type": "stream",
     "text": [
      "Test accuracy: 97.81152999604943\n",
      "Test std. dev. of accuracy: 0.006384816120426538\n",
      "----------\n",
      "Test sensitivity: 95.74876215429734\n",
      "Test std. dev. of sensitivity: 0.011872340315982584\n",
      "----------\n",
      "Test precision: 99.34301840500225\n",
      "Test std. dev. of precision: 0.006501344114147272\n"
     ]
    }
   ],
   "source": [
    "print('Test accuracy:', scores['test_accuracy'].mean() * 100)\n",
    "print('Test std. dev. of accuracy:', scores['test_accuracy'].std())\n",
    "print('-' * 10)\n",
    "print('Test sensitivity:', scores['test_recall'].mean() * 100)\n",
    "print('Test std. dev. of sensitivity:', scores['test_recall'].std())\n",
    "print('-' * 10)\n",
    "print('Test precision:', scores['test_precision'].mean() * 100)\n",
    "print('Test std. dev. of precision:', scores['test_precision'].std())"
   ]
  },
  {
   "cell_type": "markdown",
   "metadata": {},
   "source": [
    "Other classifiers to add: AdaBoostClassifier (priority), XGBoost (priority), GaussianProcessClassifier, MLPClassifier, RandomForestClassifier, "
   ]
  },
  {
   "cell_type": "markdown",
   "metadata": {},
   "source": [
    "#### Decision Tree"
   ]
  },
  {
   "cell_type": "markdown",
   "metadata": {},
   "source": [
    "Finding optimal depth and tree:"
   ]
  },
  {
   "cell_type": "code",
   "execution_count": 35,
   "metadata": {},
   "outputs": [],
   "source": [
    "cv = KFold(n_splits = 10, shuffle = True, random_state = 42)  # create CV splits\n",
    "\n",
    "scoring = ['accuracy', 'precision', 'recall']  # select metrics\n",
    "\n",
    "# scores_list, scores_mean, scores_std = [], [], []\n",
    "\n",
    "acc_mean, acc_std, prec_mean, prec_std, recall_mean, recall_std = [], [], [], [], [], []\n",
    "\n",
    "depth_range = [i for i in range(1, 21)]  # depth of the trees\n",
    "\n",
    "for depth in depth_range:\n",
    "    dTree = DecisionTreeClassifier(criterion = 'gini', max_depth = depth)  # create model based on Gini impurity\n",
    "    \n",
    "#     scores = cross_val_score(dTree, X, Y, scoring = 'accuracy', cv = cv)  # calc accuracy\n",
    "\n",
    "#     scores_list.append(scores)\n",
    "#     scores_mean.append(scores.mean())\n",
    "#     scores_std.append(scores.std())\n",
    "    \n",
    "    scores = cross_validate(dTree, X, Y, scoring = scoring, cv = cv)  # calc scores\n",
    "    \n",
    "    acc_mean.append(scores['test_accuracy'].mean())\n",
    "    acc_std.append(scores['test_accuracy'].std())\n",
    "    recall_mean.append(scores['test_recall'].mean())\n",
    "    recall_std.append(scores['test_recall'].std())"
   ]
  },
  {
   "cell_type": "markdown",
   "metadata": {},
   "source": [
    "Plotting:"
   ]
  },
  {
   "cell_type": "code",
   "execution_count": 43,
   "metadata": {},
   "outputs": [],
   "source": [
    "def dTreePlot(scores_mean, scores_std, metr):\n",
    "#     scores_mean, scores_std = np.array(scores_mean), np.array(scores_std)\n",
    "\n",
    "    plt.plot(depth_range, scores_mean, color = '#552583', label = '{} at depth'.format(metr))\n",
    "    plt.fill_between(depth_range, scores_mean - 1.5 * scores_std, scores_mean + 1.5 * scores_std, color = '#1c39bb', alpha = 0.2)\n",
    "    plt.xticks(depth_range)\n",
    "    plt.grid()\n",
    "    plt.legend()\n",
    "    plt.title('10-fold Cross Validation DTree {} versus Depth'.format(metr))\n",
    "    plt.xlabel('Depth')\n",
    "    plt.ylabel(metr)\n",
    "#     plt.savefig(os.getcwd() + '/Graphs/crossValid/dTree' + metr)\n",
    "    plt.show()\n",
    "    plt.close()"
   ]
  },
  {
   "cell_type": "code",
   "execution_count": 44,
   "metadata": {},
   "outputs": [
    {
     "data": {
      "image/png": "[encoded data removed]",
      "text/plain": [
       "<Figure size 432x288 with 1 Axes>"
      ]
     },
     "metadata": {
      "needs_background": "light"
     },
     "output_type": "display_data"
    },
    {
     "data": {
      "image/png": "[encoded data removed]",
      "text/plain": [
       "<Figure size 432x288 with 1 Axes>"
      ]
     },
     "metadata": {
      "needs_background": "light"
     },
     "output_type": "display_data"
    }
   ],
   "source": [
    "acc_mean, acc_std = np.array(acc_mean), np.array(acc_std)\n",
    "recall_mean, recall_std = np.array(recall_mean), np.array(recall_std)\n",
    "\n",
    "dTreePlot(acc_mean, acc_std, 'Accuracy')\n",
    "dTreePlot(recall_mean, recall_std, 'Sensitivity')"
   ]
  },
  {
   "cell_type": "code",
   "execution_count": 46,
   "metadata": {},
   "outputs": [
    {
     "name": "stdout",
     "output_type": "stream",
     "text": [
      "Highest accuracy: 98.5380805914555\n",
      "Corresponding accuracy std. dev.: 0.005608397170564248\n",
      "Corresponding sensitivity: 97.4400736823756\n",
      "Corresponding sensitivity std. dev.: 1.392320673352791\n",
      "Depth: 6\n",
      "----------\n",
      "Highest sensitivity: 97.6792426833093\n",
      "Corresponding sensitivity std. dev.: 0.014682884865792147\n",
      "Corresponding accuracy: 98.32573790845984\n",
      "Corresponding accuracy std. dev.: 0.6926774312225153\n",
      "Depth: 15\n"
     ]
    }
   ],
   "source": [
    "max_idx = acc_mean.argmax()\n",
    "print('Highest accuracy:', acc_mean[max_idx] * 100)\n",
    "print('Corresponding accuracy std. dev.:', acc_std[max_idx])\n",
    "print('Corresponding sensitivity:', recall_mean[max_idx] * 100)\n",
    "print('Corresponding sensitivity std. dev.:', recall_std[max_idx] * 100)\n",
    "print('Depth:', depth_range[max_idx])\n",
    "print('-' * 10)\n",
    "max_idx = recall_mean.argmax()\n",
    "print('Highest sensitivity:', recall_mean[max_idx] * 100)\n",
    "print('Corresponding sensitivity std. dev.:', recall_std[max_idx])\n",
    "print('Corresponding accuracy:', acc_mean[max_idx] * 100)\n",
    "print('Corresponding accuracy std. dev.:', acc_std[max_idx] * 100)\n",
    "print('Depth:', depth_range[max_idx])"
   ]
  },
  {
   "cell_type": "markdown",
   "metadata": {},
   "source": [
    "#### Naive Bayes"
   ]
  },
  {
   "cell_type": "markdown",
   "metadata": {},
   "source": [
    "Without repeated folds:"
   ]
  },
  {
   "cell_type": "code",
   "execution_count": 28,
   "metadata": {},
   "outputs": [],
   "source": [
    "cv = KFold(n_splits = 10, shuffle = True, random_state = 42)  # create CV splits"
   ]
  },
  {
   "cell_type": "code",
   "execution_count": 29,
   "metadata": {},
   "outputs": [],
   "source": [
    "naiveBayes = GaussianNB()  # create model\n",
    "\n",
    "# scores = cross_val_score(naiveBayes, X, Y, scoring = 'accuracy', cv = cv)  # calc accuracy\n",
    "\n",
    "scoring = ['accuracy', 'precision', 'recall']  # select metrics\n",
    "scores = cross_validate(naiveBayes, X, Y, scoring = scoring, cv = cv)  # calc scores"
   ]
  },
  {
   "cell_type": "code",
   "execution_count": 30,
   "metadata": {},
   "outputs": [
    {
     "name": "stdout",
     "output_type": "stream",
     "text": [
      "Test accuracy: 96.67757774140753\n",
      "Test std. dev. of accuracy: 0.0066257507165831675\n",
      "----------\n",
      "Test sensitivity: 93.88528735984488\n",
      "Test std. dev. of sensitivity: 0.014013152227985791\n",
      "----------\n",
      "Test precision: 98.6343584918859\n",
      "Test std. dev. of precision: 0.009549531109872238\n"
     ]
    }
   ],
   "source": [
    "print('Test accuracy:', scores['test_accuracy'].mean() * 100)\n",
    "print('Test std. dev. of accuracy:', scores['test_accuracy'].std())\n",
    "print('-' * 10)\n",
    "print('Test sensitivity:', scores['test_recall'].mean() * 100)\n",
    "print('Test std. dev. of sensitivity:', scores['test_recall'].std())\n",
    "print('-' * 10)\n",
    "print('Test precision:', scores['test_precision'].mean() * 100)\n",
    "print('Test std. dev. of precision:', scores['test_precision'].std())"
   ]
  },
  {
   "cell_type": "markdown",
   "metadata": {},
   "source": [
    "With repeated folds:"
   ]
  },
  {
   "cell_type": "code",
   "execution_count": 31,
   "metadata": {},
   "outputs": [],
   "source": [
    "cvr = RepeatedKFold(n_splits = 10, n_repeats = 3, random_state = 42)  # creates CV splits for repeated KFold CV"
   ]
  },
  {
   "cell_type": "code",
   "execution_count": 32,
   "metadata": {},
   "outputs": [],
   "source": [
    "naiveBayes = GaussianNB()  # create model\n",
    "\n",
    "# scores = cross_val_score(naiveBayes, X, Y, scoring = 'accuracy', cv = cvr)  # calc accuracy\n",
    "\n",
    "scoring = ['accuracy', 'precision', 'recall']  # select metrics\n",
    "scores = cross_validate(naiveBayes, X, Y, scoring = scoring, cv = cvr)  # calc scores"
   ]
  },
  {
   "cell_type": "code",
   "execution_count": 33,
   "metadata": {},
   "outputs": [
    {
     "name": "stdout",
     "output_type": "stream",
     "text": [
      "Test accuracy: 96.66847734070771\n",
      "Test std. dev. of accuracy: 0.00839503195695032\n",
      "----------\n",
      "Test sensitivity: 93.89329614731722\n",
      "Test std. dev. of sensitivity: 0.016835656746151402\n",
      "----------\n",
      "Test precision: 98.61071451510591\n",
      "Test std. dev. of precision: 0.009095547654943258\n"
     ]
    }
   ],
   "source": [
    "print('Test accuracy:', scores['test_accuracy'].mean() * 100)\n",
    "print('Test std. dev. of accuracy:', scores['test_accuracy'].std())\n",
    "print('-' * 10)\n",
    "print('Test sensitivity:', scores['test_recall'].mean() * 100)\n",
    "print('Test std. dev. of sensitivity:', scores['test_recall'].std())\n",
    "print('-' * 10)\n",
    "print('Test precision:', scores['test_precision'].mean() * 100)\n",
    "print('Test std. dev. of precision:', scores['test_precision'].std())"
   ]
  }
 ],
 "metadata": {
  "kernelspec": {
   "display_name": "Python 3",
   "language": "python",
   "name": "python3"
  },
  "language_info": {
   "codemirror_mode": {
    "name": "ipython",
    "version": 3
   },
   "file_extension": ".py",
   "mimetype": "text/x-python",
   "name": "python",
   "nbconvert_exporter": "python",
   "pygments_lexer": "ipython3",
   "version": "3.8.8"
  }
 },
 "nbformat": 4,
 "nbformat_minor": 4
}
